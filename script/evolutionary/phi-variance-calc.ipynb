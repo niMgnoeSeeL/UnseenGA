{
 "cells": [
  {
   "cell_type": "code",
   "execution_count": 9,
   "metadata": {},
   "outputs": [],
   "source": [
    "import numpy as np\n",
    "import math\n",
    "\n",
    "S = 100\n",
    "# uniform distribution\n",
    "p = np.array([1 / S] * S)\n",
    "\n",
    "def fnk(n, k):\n",
    "    return np.sum(math.comb(n, k) * p ** k * (1 - p) ** (n - k))\n",
    "\n",
    "def varnk(n, k):\n",
    "    v = fnk(n, k) - fnk(n, k) ** 2\n",
    "    if 2 * k <= n:\n",
    "        for x in range(S - 1):\n",
    "            for y in range(x + 1, S):\n",
    "                v += 2 * math.factorial(n) / (math.factorial(k) ** 2 * math.factorial(n - 2 * k)) * p[x] ** k * p[y] ** k * (1 - p[x] - p[y]) ** (n - 2 * k)\n",
    "    return v\n"
   ]
  },
  {
   "cell_type": "code",
   "execution_count": 10,
   "metadata": {},
   "outputs": [
    {
     "name": "stdout",
     "output_type": "stream",
     "text": [
      "fnk(100, 1)=36.97296376497264, varnk(100, 1)=23.37177646933969\n",
      "11.633636940524468, varnk(100, 2)=11.633636940524468\n",
      "\n",
      "fnk(200, 1)=27.06660098140641, varnk(200, 1)=16.040339698647816\n",
      "19.840419797849425, varnk(200, 2)=19.840419797849425\n",
      "\n",
      "fnk(500, 1)=3.318425778997275, varnk(500, 1)=2.8574230783635377\n",
      "6.399080575661015, varnk(500, 2)=6.399080575661015\n",
      "\n",
      "fnk(1000, 1)=0.04360732061682612, varnk(1000, 1)=0.04343882460650447\n",
      "0.21649927969195595, varnk(1000, 2)=0.21649927969195595\n",
      "\n"
     ]
    }
   ],
   "source": [
    "print(f\"{fnk(100, 1)=}, {varnk(100, 1)=}\")\n",
    "print(f\"{varnk(100, 2)}, {varnk(100, 2)=}\")\n",
    "print()\n",
    "\n",
    "print(f\"{fnk(200, 1)=}, {varnk(200, 1)=}\")\n",
    "print(f\"{varnk(200, 2)}, {varnk(200, 2)=}\")\n",
    "print()\n",
    "\n",
    "print(f\"{fnk(500, 1)=}, {varnk(500, 1)=}\")\n",
    "print(f\"{varnk(500, 2)}, {varnk(500, 2)=}\")\n",
    "print()\n",
    "\n",
    "print(f\"{fnk(1000, 1)=}, {varnk(1000, 1)=}\")\n",
    "print(f\"{varnk(1000, 2)}, {varnk(1000, 2)=}\")\n",
    "print()"
   ]
  },
  {
   "cell_type": "code",
   "execution_count": null,
   "metadata": {},
   "outputs": [],
   "source": []
  }
 ],
 "metadata": {
  "kernelspec": {
   "display_name": "Python 3",
   "language": "python",
   "name": "python3"
  },
  "language_info": {
   "codemirror_mode": {
    "name": "ipython",
    "version": 3
   },
   "file_extension": ".py",
   "mimetype": "text/x-python",
   "name": "python",
   "nbconvert_exporter": "python",
   "pygments_lexer": "ipython3",
   "version": "3.12.0"
  }
 },
 "nbformat": 4,
 "nbformat_minor": 2
}
