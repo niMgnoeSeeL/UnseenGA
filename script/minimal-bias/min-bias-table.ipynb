{
 "cells": [
  {
   "cell_type": "code",
   "execution_count": 1,
   "metadata": {},
   "outputs": [],
   "source": [
    "import itertools\n",
    "import numpy as np\n",
    "from typing import Tuple, List\n",
    "import pandas as pd"
   ]
  },
  {
   "cell_type": "code",
   "execution_count": 2,
   "metadata": {},
   "outputs": [],
   "source": [
    "def mult_well(values: np.ndarray):\n",
    "    if 0 in values:\n",
    "        return 0\n",
    "    sign = 1 if len([v for v in values if v < 0]) % 2 == 0 else -1\n",
    "    values = np.abs(values)\n",
    "    less_than_one = sorted(values[values < 1])\n",
    "    greater_than_one = sorted(values[values > 1], reverse=True)\n",
    "    prod = 1\n",
    "    while len(less_than_one) + len(greater_than_one):\n",
    "        if len(less_than_one) == 0:\n",
    "            prod *= np.prod(greater_than_one)\n",
    "            break\n",
    "        elif len(greater_than_one) == 0:\n",
    "            prod *= np.prod(less_than_one)\n",
    "            break\n",
    "        elif prod > 1:\n",
    "            small_value = less_than_one.pop(0)\n",
    "            prod *= small_value\n",
    "        else:  # prod < 1\n",
    "            large_value = greater_than_one.pop(0)\n",
    "            prod *= large_value\n",
    "    return sign * prod"
   ]
  },
  {
   "cell_type": "code",
   "execution_count": 3,
   "metadata": {},
   "outputs": [],
   "source": [
    "def get_g_lazy(S, n, k) -> np.ndarray:\n",
    "    return np.array([1 / S] * (k - 1) + [1 - 1 / S] * (n - k))\n",
    "\n",
    "\n",
    "def get_comb_lazy(n, k) -> np.ndarray:\n",
    "    values = []\n",
    "    values += list(range(n, n - k, -1))\n",
    "    values += list(1 / np.arange(1, k + 1))\n",
    "    return np.array(values)\n",
    "\n",
    "\n",
    "def get_f_lazy(S, n, k) -> np.ndarray:\n",
    "    return np.concatenate([get_g_lazy(S, n, k), get_comb_lazy(n, k)])"
   ]
  },
  {
   "cell_type": "code",
   "execution_count": 4,
   "metadata": {},
   "outputs": [],
   "source": [
    "def get_var_lazy(S, n, k) -> Tuple[Tuple[int, ...], List[np.ndarray]]:\n",
    "    fk_lazy = get_f_lazy(S, n, k)\n",
    "    fksquare_lazy = fk_lazy**2\n",
    "    if 2 * k <= n:\n",
    "        values = []\n",
    "        values += list(range(n, n - 2 * k, -1))\n",
    "        values += list(1 / np.arange(1, k + 1))\n",
    "        values += list(1 / np.arange(1, k + 1))\n",
    "        values += [S - 2] * (n - 2 * k)\n",
    "        values += [S - 1]\n",
    "        values += [1 / S] * (n - 1)\n",
    "        values = np.array(values)\n",
    "        return (1, -1, 1), [fk_lazy, fksquare_lazy, values]\n",
    "    else:\n",
    "        return (1, -1), [fk_lazy, fksquare_lazy]\n",
    "\n",
    "\n",
    "def get_cov_lazy(S, n, k1, k2) -> Tuple[Tuple[int, ...], List[np.ndarray]]:\n",
    "    fk1_lazy = get_f_lazy(S, n, k1)\n",
    "    fk2_lazy = get_f_lazy(S, n, k2)\n",
    "    fk1k2_lazy = np.concatenate([fk1_lazy, fk2_lazy])\n",
    "    # cov = - mult_well(values)\n",
    "    if k1 + k2 <= n:\n",
    "        values = []\n",
    "        values += list(range(n, n - k1 - k2, -1))\n",
    "        values += list(1 / np.arange(1, k1 + 1))\n",
    "        values += list(1 / np.arange(1, k2 + 1))\n",
    "        values += [S - 2] * (n - k1 - k2)\n",
    "        values += [S - 1]\n",
    "        values += [1 / S] * (n - 1)\n",
    "        values = np.array(values)\n",
    "        return (-1, 1), [fk1k2_lazy, values]\n",
    "    else:\n",
    "        return (-1,), [fk1k2_lazy]"
   ]
  },
  {
   "cell_type": "code",
   "execution_count": 5,
   "metadata": {},
   "outputs": [],
   "source": [
    "def get_var_bt_lazy(S, n) -> float:\n",
    "    var_bt = 0\n",
    "    for i in range(1, n + 1):\n",
    "        ci_values = 1 / get_comb_lazy(n, i)\n",
    "        cisquare_values = ci_values**2\n",
    "        var_tuples = get_var_lazy(S, n, i)\n",
    "        for coef, var_values in zip(var_tuples[0], var_tuples[1]):\n",
    "            values = np.concatenate([cisquare_values, var_values])\n",
    "            var_bt += coef * mult_well(values)\n",
    "    for i, j in itertools.combinations(range(1, n + 1), 2):\n",
    "        sign = 1 if i + j % 2 == 0 else -1\n",
    "        ci_values = 1 / get_comb_lazy(n, i)\n",
    "        cj_values = 1 / get_comb_lazy(n, j)\n",
    "        cov_tuples = get_cov_lazy(S, n, i, j)\n",
    "        for coef, cov_values in zip(cov_tuples[0], cov_tuples[1]):\n",
    "            values = np.concatenate([ci_values, cj_values, cov_values])\n",
    "            var_bt += sign * coef * mult_well(values)\n",
    "    return var_bt"
   ]
  },
  {
   "cell_type": "code",
   "execution_count": 6,
   "metadata": {},
   "outputs": [],
   "source": [
    "def get_var_gt(S, n):\n",
    "    var1_tuple = get_var_lazy(S, n, 1)\n",
    "    var1 = 0\n",
    "    for coef, values in zip(var1_tuple[0], var1_tuple[1]):\n",
    "        var1 += coef * mult_well(values)\n",
    "    return var1 / (n**2)"
   ]
  },
  {
   "cell_type": "code",
   "execution_count": 7,
   "metadata": {},
   "outputs": [],
   "source": [
    "def get_bias_gt(S, n):\n",
    "    return mult_well(get_g_lazy(S, n + 1, 2))\n",
    "\n",
    "def get_bias_bt(S, n):\n",
    "    return mult_well(get_g_lazy(S, n + 1, n + 1))"
   ]
  },
  {
   "cell_type": "code",
   "execution_count": 8,
   "metadata": {},
   "outputs": [
    {
     "name": "stdout",
     "output_type": "stream",
     "text": [
      "S = 100, n = 100\n",
      "GT: bias = 0.003697296376497265, var = 0.00233717764693788\n",
      "BT: bias = 1.0000000000000017e-200, var = 0.0023515371697249926\n",
      "S = 100, n = 500\n",
      "GT: bias = 6.636851557994564e-05, var = 1.1429692313457735e-05\n",
      "BT: bias = 0.0, var = 1.1445362183927047e-05\n",
      "S = 100, n = 1000\n",
      "GT: bias = 4.360732061682617e-07, var = 4.343882460648888e-08\n",
      "BT: bias = 0.0, var = 4.344124759226334e-08\n"
     ]
    }
   ],
   "source": [
    "# roughly 45 minutes\n",
    "Sns = [(100, 100), (100, 500), (100, 1000)]\n",
    "\n",
    "data = []\n",
    "for S, n in Sns:\n",
    "    print(f\"S = {S}, n = {n}\")\n",
    "    data.append([S, n, \"GT\", get_bias_gt(S, n), get_var_gt(S, n)])\n",
    "    print(f\"GT: bias = {data[-1][-2]}, var = {data[-1][-1]}\")\n",
    "    data.append([S, n, \"BT\", get_bias_bt(S, n), get_var_bt_lazy(S, n)])\n",
    "    print(f\"BT: bias = {data[-1][-2]}, var = {data[-1][-1]}\")"
   ]
  },
  {
   "cell_type": "code",
   "execution_count": 9,
   "metadata": {},
   "outputs": [
    {
     "data": {
      "text/html": [
       "<div>\n",
       "<style scoped>\n",
       "    .dataframe tbody tr th:only-of-type {\n",
       "        vertical-align: middle;\n",
       "    }\n",
       "\n",
       "    .dataframe tbody tr th {\n",
       "        vertical-align: top;\n",
       "    }\n",
       "\n",
       "    .dataframe thead th {\n",
       "        text-align: right;\n",
       "    }\n",
       "</style>\n",
       "<table border=\"1\" class=\"dataframe\">\n",
       "  <thead>\n",
       "    <tr style=\"text-align: right;\">\n",
       "      <th></th>\n",
       "      <th>S</th>\n",
       "      <th>n</th>\n",
       "      <th>method</th>\n",
       "      <th>bias</th>\n",
       "      <th>var</th>\n",
       "      <th>mse</th>\n",
       "    </tr>\n",
       "  </thead>\n",
       "  <tbody>\n",
       "    <tr>\n",
       "      <th>0</th>\n",
       "      <td>100</td>\n",
       "      <td>100</td>\n",
       "      <td>GT</td>\n",
       "      <td>3.697296e-03</td>\n",
       "      <td>2.337178e-03</td>\n",
       "      <td>2.350848e-03</td>\n",
       "    </tr>\n",
       "    <tr>\n",
       "      <th>1</th>\n",
       "      <td>100</td>\n",
       "      <td>100</td>\n",
       "      <td>BT</td>\n",
       "      <td>1.000000e-200</td>\n",
       "      <td>2.351537e-03</td>\n",
       "      <td>2.351537e-03</td>\n",
       "    </tr>\n",
       "    <tr>\n",
       "      <th>2</th>\n",
       "      <td>100</td>\n",
       "      <td>500</td>\n",
       "      <td>GT</td>\n",
       "      <td>6.636852e-05</td>\n",
       "      <td>1.142969e-05</td>\n",
       "      <td>1.143410e-05</td>\n",
       "    </tr>\n",
       "    <tr>\n",
       "      <th>3</th>\n",
       "      <td>100</td>\n",
       "      <td>500</td>\n",
       "      <td>BT</td>\n",
       "      <td>0.000000e+00</td>\n",
       "      <td>1.144536e-05</td>\n",
       "      <td>1.144536e-05</td>\n",
       "    </tr>\n",
       "    <tr>\n",
       "      <th>4</th>\n",
       "      <td>100</td>\n",
       "      <td>1000</td>\n",
       "      <td>GT</td>\n",
       "      <td>4.360732e-07</td>\n",
       "      <td>4.343882e-08</td>\n",
       "      <td>4.343901e-08</td>\n",
       "    </tr>\n",
       "    <tr>\n",
       "      <th>5</th>\n",
       "      <td>100</td>\n",
       "      <td>1000</td>\n",
       "      <td>BT</td>\n",
       "      <td>0.000000e+00</td>\n",
       "      <td>4.344125e-08</td>\n",
       "      <td>4.344125e-08</td>\n",
       "    </tr>\n",
       "  </tbody>\n",
       "</table>\n",
       "</div>"
      ],
      "text/plain": [
       "     S     n method           bias           var           mse\n",
       "0  100   100     GT   3.697296e-03  2.337178e-03  2.350848e-03\n",
       "1  100   100     BT  1.000000e-200  2.351537e-03  2.351537e-03\n",
       "2  100   500     GT   6.636852e-05  1.142969e-05  1.143410e-05\n",
       "3  100   500     BT   0.000000e+00  1.144536e-05  1.144536e-05\n",
       "4  100  1000     GT   4.360732e-07  4.343882e-08  4.343901e-08\n",
       "5  100  1000     BT   0.000000e+00  4.344125e-08  4.344125e-08"
      ]
     },
     "metadata": {},
     "output_type": "display_data"
    }
   ],
   "source": [
    "df = pd.DataFrame(data, columns=[\"S\", \"n\", \"method\", \"bias\", \"var\"])\n",
    "df[\"mse\"] = df[\"bias\"] ** 2 + df[\"var\"]\n",
    "display(df)"
   ]
  },
  {
   "cell_type": "code",
   "execution_count": 10,
   "metadata": {},
   "outputs": [
    {
     "name": "stdout",
     "output_type": "stream",
     "text": [
      "\\begin{tabular}{rrlrrr}\n",
      "\\toprule\n",
      "S & n & method & bias & var & mse \\\\\n",
      "\\midrule\n",
      "100 & 100 & GT & 3.6973e-03 & 2.3372e-03 & 2.3508e-03 \\\\\n",
      "100 & 100 & BT & 1.0000e-200 & 2.3515e-03 & 2.3515e-03 \\\\\n",
      "100 & 500 & GT & 6.6369e-05 & 1.1430e-05 & 1.1434e-05 \\\\\n",
      "100 & 500 & BT & 0.0000e+00 & 1.1445e-05 & 1.1445e-05 \\\\\n",
      "100 & 1000 & GT & 4.3607e-07 & 4.3439e-08 & 4.3439e-08 \\\\\n",
      "100 & 1000 & BT & 0.0000e+00 & 4.3441e-08 & 4.3441e-08 \\\\\n",
      "\\bottomrule\n",
      "\\end{tabular}\n",
      "\n"
     ]
    }
   ],
   "source": [
    "# as latex\n",
    "print(df.to_latex(index=False,float_format=\"{:.4e}\".format))"
   ]
  },
  {
   "cell_type": "code",
   "execution_count": null,
   "metadata": {},
   "outputs": [],
   "source": []
  }
 ],
 "metadata": {
  "kernelspec": {
   "display_name": "Python 3",
   "language": "python",
   "name": "python3"
  },
  "language_info": {
   "codemirror_mode": {
    "name": "ipython",
    "version": 3
   },
   "file_extension": ".py",
   "mimetype": "text/x-python",
   "name": "python",
   "nbconvert_exporter": "python",
   "pygments_lexer": "ipython3",
   "version": "3.12.0"
  }
 },
 "nbformat": 4,
 "nbformat_minor": 2
}
